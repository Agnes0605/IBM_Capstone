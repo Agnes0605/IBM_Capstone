{
 "cells": [
  {
   "cell_type": "markdown",
   "metadata": {},
   "source": [
    "## 1. Introduction"
   ]
  },
  {
   "cell_type": "markdown",
   "metadata": {},
   "source": [
    "### 1.1 Background"
   ]
  },
  {
   "cell_type": "markdown",
   "metadata": {},
   "source": [
    "The COVID 19 has impacted tremendously on economy, people’s lives, and politics. Millions of people lost their jobs. Since I had my undergraduate studies in University of California, Irvine, I am interested in analyzing the current situation of the pandemic in Orange County, Irvine."
   ]
  },
  {
   "cell_type": "markdown",
   "metadata": {},
   "source": [
    "### 1.2 Problem"
   ]
  },
  {
   "cell_type": "markdown",
   "metadata": {},
   "source": [
    "I try to find the vulnerable groups to the pandemic. By analyzing number of cases and amount of hospitals, I cluster the cities to several groups and find the least and most serious cities. Also, due to the pandemic, the lockdown policy has been enforced. Around a month ago, the reopen has happened stage by stage. I want to investigate whether the reopen exacerbate the situation. "
   ]
  },
  {
   "cell_type": "markdown",
   "metadata": {},
   "source": [
    "### 1.3 Interest"
   ]
  },
  {
   "cell_type": "markdown",
   "metadata": {},
   "source": [
    "Apparently, the pandemic is closely related to wellbeing of each one. I hope my analysis can show some solid facts. In such way, people can have a better understanding about the outcomes about their decisions, such as whether to reopen dine-in, or whether to go to work physically instead of work from home."
   ]
  }
 ],
 "metadata": {
  "kernelspec": {
   "display_name": "Python 3",
   "language": "python",
   "name": "python3"
  },
  "language_info": {
   "codemirror_mode": {
    "name": "ipython",
    "version": 3
   },
   "file_extension": ".py",
   "mimetype": "text/x-python",
   "name": "python",
   "nbconvert_exporter": "python",
   "pygments_lexer": "ipython3",
   "version": "3.7.4"
  }
 },
 "nbformat": 4,
 "nbformat_minor": 2
}
