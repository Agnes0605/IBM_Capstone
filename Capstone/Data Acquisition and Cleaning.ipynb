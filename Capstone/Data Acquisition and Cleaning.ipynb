{
 "cells": [
  {
   "cell_type": "markdown",
   "metadata": {},
   "source": [
    "## 2. Data Acquisition and Cleaning"
   ]
  },
  {
   "cell_type": "markdown",
   "metadata": {},
   "source": [
    "### 2.1 Data Source"
   ]
  },
  {
   "cell_type": "markdown",
   "metadata": {},
   "source": [
    "Data I used can be split into two parts: one is the data of COVID 19 cases in Orange County, downloaded from Kaggle (https://www.kaggle.com/shubhamkulkarni01/orange-county-covid19-data), the other is the hospital locations in each city of Orange County, using Foursquare API. "
   ]
  },
  {
   "cell_type": "markdown",
   "metadata": {},
   "source": [
    "### 2.2 Data Cleaning"
   ]
  },
  {
   "cell_type": "markdown",
   "metadata": {},
   "source": [
    "The number of confirmed cases for each day is for dates between March 6th and June 18th. However, since there are not a lot of cases found in the early several days. Until April 8th, there aren’t clear data for cases for different sex, age, and city. Therefore, the data I used to analyze is from April 8th to June 18th. However, there are some numbers not available in population of some cities. I searched it using google. Some cases are unknown sex. I have to leave it alone since the percentage of unknown is minor."
   ]
  },
  {
   "cell_type": "markdown",
   "metadata": {},
   "source": [
    "### 2.3 Datasets"
   ]
  },
  {
   "cell_type": "markdown",
   "metadata": {},
   "source": [
    "- df_city: columns are city, latitude, longitude, and population. I will use this dataset to locate the city and search the hospitals in cities\n",
    "- df_cases: this is the dataset includes the detailed amount of cases in female, male, and different ages for each day from April 8th to June 18th. I will use it to analyze the vulnerable groups to the COVID 19.\n",
    "- df_deaths: this is the dataset includes the detailed amount of deaths in female, male, and different ages for each day from April 8th to June 18th. I will use it to analyze the vulnerable groups to the COVID 19 as well.\n",
    "- df_hospitalized_ICU: it has the number of hospitalization and ICU. \n",
    "5. df_city_cases: this is the accumulated cases in each city. I will use this dataset and Foursquare to analyze the relationship between pandemic severity to the amount of medical resources.\n",
    "6. df_min_per_ten_thous: columns are city, cases per ten thousand on June 18th.\n",
    "7. df_case_by_sex: percentage of male and female for each day from April 8th to June 18th.\n",
    "8. df_case_by_sex: percentage of male and female for each day from April 8th to June 18th.\n"
   ]
  },
  {
   "cell_type": "code",
   "execution_count": null,
   "metadata": {},
   "outputs": [],
   "source": []
  }
 ],
 "metadata": {
  "kernelspec": {
   "display_name": "Python 3",
   "language": "python",
   "name": "python3"
  },
  "language_info": {
   "codemirror_mode": {
    "name": "ipython",
    "version": 3
   },
   "file_extension": ".py",
   "mimetype": "text/x-python",
   "name": "python",
   "nbconvert_exporter": "python",
   "pygments_lexer": "ipython3",
   "version": "3.7.4"
  }
 },
 "nbformat": 4,
 "nbformat_minor": 2
}
